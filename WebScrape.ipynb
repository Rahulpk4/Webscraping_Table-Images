{
 "cells": [
  {
   "cell_type": "markdown",
   "id": "9070f7dc",
   "metadata": {},
   "source": [
    "# Load Libraries"
   ]
  },
  {
   "cell_type": "code",
   "execution_count": null,
   "id": "41ce9b06",
   "metadata": {},
   "outputs": [],
   "source": [
    "import requests\n",
    "from bs4 import BeautifulSoup\n",
    "import pandas as pd"
   ]
  },
  {
   "cell_type": "markdown",
   "id": "46a74454",
   "metadata": {},
   "source": [
    "# Load Page"
   ]
  },
  {
   "cell_type": "code",
   "execution_count": null,
   "id": "415bb2e1",
   "metadata": {},
   "outputs": [],
   "source": [
    "soup = BeautifulSoup(requests.get('https://www.worldometers.info/coronavirus/#countries').content, \"html.parser\").find('table',{'id':'main_table_countries_today'})"
   ]
  },
  {
   "cell_type": "code",
   "execution_count": null,
   "id": "57a67973",
   "metadata": {},
   "outputs": [],
   "source": [
    "soup.prettify()"
   ]
  },
  {
   "cell_type": "code",
   "execution_count": null,
   "id": "a35a009c",
   "metadata": {},
   "outputs": [],
   "source": [
    "headers = [head.text for head in soup.find('thead').find('tr').find_all('th')]"
   ]
  },
  {
   "cell_type": "code",
   "execution_count": null,
   "id": "467ffb5b",
   "metadata": {},
   "outputs": [],
   "source": [
    "print (headers)"
   ]
  },
  {
   "cell_type": "code",
   "execution_count": null,
   "id": "459cc152",
   "metadata": {},
   "outputs": [],
   "source": [
    "table_body = soup.find('tbody')"
   ]
  },
  {
   "cell_type": "code",
   "execution_count": null,
   "id": "87d85d4b",
   "metadata": {},
   "outputs": [],
   "source": [
    "print(table_body)"
   ]
  },
  {
   "cell_type": "code",
   "execution_count": null,
   "id": "dd167424",
   "metadata": {},
   "outputs": [],
   "source": [
    "table_data = [[data.text for data in row.find_all('td')] for row in table_body.find_all('tr')]"
   ]
  },
  {
   "cell_type": "code",
   "execution_count": null,
   "id": "9fb47b60",
   "metadata": {},
   "outputs": [],
   "source": [
    "print(table_data)"
   ]
  },
  {
   "cell_type": "code",
   "execution_count": null,
   "id": "c45d2f04",
   "metadata": {},
   "outputs": [],
   "source": [
    "covid_df = pd.DataFrame(data=table_data, columns=headers)"
   ]
  },
  {
   "cell_type": "code",
   "execution_count": null,
   "id": "49d1f85b",
   "metadata": {},
   "outputs": [],
   "source": [
    "covid_df.head(20)"
   ]
  },
  {
   "cell_type": "code",
   "execution_count": null,
   "id": "18d95abd",
   "metadata": {},
   "outputs": [],
   "source": [
    "covid_df.loc[covid_df['#'] != \"\"]"
   ]
  },
  {
   "cell_type": "markdown",
   "id": "0ce687f6",
   "metadata": {},
   "source": [
    "# Image Scraping"
   ]
  },
  {
   "cell_type": "code",
   "execution_count": null,
   "id": "a1657340",
   "metadata": {},
   "outputs": [],
   "source": [
    "import os"
   ]
  },
  {
   "cell_type": "code",
   "execution_count": null,
   "id": "aaebcfd8",
   "metadata": {},
   "outputs": [],
   "source": [
    "ROOT = os.getcwd()"
   ]
  },
  {
   "cell_type": "code",
   "execution_count": null,
   "id": "8e56d377",
   "metadata": {},
   "outputs": [],
   "source": [
    "def imagedown(url, folder):\n",
    "    try:\n",
    "        os.mkdir(os.path.join(os.getcwd(), folder))\n",
    "    except:\n",
    "        pass\n",
    "\n",
    "    os.chdir(os.path.join(os.getcwd(), folder))\n",
    "    r = requests.get(url)\n",
    "    soup = BeautifulSoup(r.text, 'html.parser')\n",
    "    images = soup.find_all('span', {'class' : 'img-fixed icon-pkmn'})\n",
    "\n",
    "    for element in images:\n",
    "        name = element['data-alt']\n",
    "        link = element['data-src']\n",
    "        with open(name.replace(' ', '-').replace('/', '') + '.jpg', 'wb') as f:\n",
    "            im = requests.get(link)\n",
    "            f.write(im.content)\n",
    "            print('Writing: ', name)"
   ]
  },
  {
   "cell_type": "code",
   "execution_count": null,
   "id": "25eed532",
   "metadata": {},
   "outputs": [],
   "source": [
    "imagedown('https://pokemondb.net/sprites', 'Sprites')"
   ]
  },
  {
   "cell_type": "code",
   "execution_count": null,
   "id": "96651f60",
   "metadata": {},
   "outputs": [],
   "source": [
    "def shinyimagedown(url, folder):\n",
    "    try:\n",
    "        os.mkdir(os.path.join(ROOT, folder))\n",
    "    except:\n",
    "        pass\n",
    "\n",
    "    os.chdir(os.path.join(ROOT, folder))\n",
    "    r = requests.get(url)\n",
    "    soup = BeautifulSoup(r.text, 'html.parser')\n",
    "    images = soup.find_all('span', {'class' : 'img-fixed shinydex-sprite shinydex-sprite-shiny'})\n",
    "\n",
    "    for element in images:\n",
    "        name = element['data-alt']\n",
    "        link = element['data-src']\n",
    "        with open(name.replace(' ', '-').replace('/', '') + '.jpg', 'wb') as f:\n",
    "            im = requests.get(link)\n",
    "            f.write(im.content)\n",
    "            print('Writing: ', name)"
   ]
  },
  {
   "cell_type": "code",
   "execution_count": null,
   "id": "1323b6a3",
   "metadata": {},
   "outputs": [],
   "source": [
    "os.chdir(ROOT)\n",
    "shinyimagedown('https://pokemondb.net/pokedex/shiny','Shiny_Images')"
   ]
  },
  {
   "cell_type": "code",
   "execution_count": null,
   "id": "cff0326c",
   "metadata": {},
   "outputs": [],
   "source": []
  }
 ],
 "metadata": {
  "kernelspec": {
   "display_name": "Python 3",
   "language": "python",
   "name": "python3"
  },
  "language_info": {
   "codemirror_mode": {
    "name": "ipython",
    "version": 3
   },
   "file_extension": ".py",
   "mimetype": "text/x-python",
   "name": "python",
   "nbconvert_exporter": "python",
   "pygments_lexer": "ipython3",
   "version": "3.8.10"
  }
 },
 "nbformat": 4,
 "nbformat_minor": 5
}
